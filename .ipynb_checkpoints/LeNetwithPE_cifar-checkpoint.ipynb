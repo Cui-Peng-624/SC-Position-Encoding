{
 "cells": [
  {
   "cell_type": "code",
   "execution_count": 3,
   "id": "072b0570-1897-442a-8d81-fda3c2c8ea80",
   "metadata": {},
   "outputs": [],
   "source": [
    "import torch\n",
    "import torch.nn as nn\n",
    "import torch.optim as optim\n",
    "import torchvision\n",
    "import torchvision.transforms as transforms\n",
    "import numpy as np\n",
    "from torchvision.datasets import FashionMNIST\n",
    "from torch.utils.data import DataLoader, random_split\n",
    "from torchvision import datasets, transforms\n",
    "# from visualization import TrainingVisualizer\n",
    "import torch.nn.functional as F"
   ]
  },
  {
   "cell_type": "code",
   "execution_count": 4,
   "id": "e3fb259f-1eba-4b20-8839-36faee9117ab",
   "metadata": {},
   "outputs": [
    {
     "name": "stdout",
     "output_type": "stream",
     "text": [
      "Files already downloaded and verified\n",
      "Files already downloaded and verified\n"
     ]
    }
   ],
   "source": [
    "# 数据准备\n",
    "transform = transforms.Compose([\n",
    "    transforms.ToTensor(),\n",
    "    transforms.Normalize((0.5, 0.5, 0.5), (0.5, 0.5, 0.5))\n",
    "])\n",
    "\n",
    "trainset = torchvision.datasets.CIFAR10(root='./data', train=True, download=True, transform=transform)\n",
    "train_loader = DataLoader(trainset, batch_size=256, shuffle=True)\n",
    "\n",
    "testset = torchvision.datasets.CIFAR10(root='./data', train=False, download=True, transform=transform)\n",
    "test_loader = DataLoader(testset, batch_size=256, shuffle=False)"
   ]
  },
  {
   "cell_type": "code",
   "execution_count": 10,
   "id": "fb788f33-d61d-46b1-9735-69665e54fb06",
   "metadata": {},
   "outputs": [
    {
     "name": "stdout",
     "output_type": "stream",
     "text": [
      "torch.Size([256, 3, 32, 32]) torch.Size([256])\n"
     ]
    }
   ],
   "source": [
    "# test\n",
    "for temp in train_loader:\n",
    "    a,b = temp\n",
    "    print(a.shape, b.shape)\n",
    "    break"
   ]
  },
  {
   "cell_type": "code",
   "execution_count": 3,
   "id": "b89342de-8288-4f22-8123-98e39ed7e0eb",
   "metadata": {},
   "outputs": [],
   "source": [
    "def spherical_to_cartesian(radius, theta, phi):\n",
    "    x = radius * np.sin(phi) * np.cos(theta)\n",
    "    y = radius * np.sin(phi) * np.sin(theta)\n",
    "    z = radius * np.cos(phi)\n",
    "    return x, y, z\n",
    "\n",
    "def get_position_encoding_matrix(rows, cols):\n",
    "    position_encoding_matrix = np.zeros((rows, cols, 3))\n",
    "    radius = 1\n",
    "\n",
    "    for i in range(rows):\n",
    "        for j in range(cols):\n",
    "            theta = (j / (cols - 1)) * (np.pi / 2)\n",
    "            phi = (i / (rows - 1)) * (np.pi / 2)\n",
    "            x, y, z = spherical_to_cartesian(radius, theta, phi)\n",
    "            position_encoding_matrix[i, j] = [x, y, z]\n",
    "\n",
    "    return position_encoding_matrix\n",
    "\n",
    "position_encoding_matrix = get_position_encoding_matrix(32, 32)\n",
    "position_encoding_matrix = torch.tensor(position_encoding_matrix, dtype=torch.float32).view(32 * 32, 3)"
   ]
  },
  {
   "cell_type": "code",
   "execution_count": 4,
   "id": "d04fcef0-4b47-483d-8882-513500376356",
   "metadata": {},
   "outputs": [],
   "source": [
    "class LeNet(nn.Module):\n",
    "    def __init__(self):\n",
    "        super(LeNet, self).__init__()\n",
    "        self.conv1 = nn.Conv2d(3, 6, kernel_size=5)\n",
    "        self.conv2 = nn.Conv2d(6, 16, kernel_size=5)\n",
    "        self.pool = nn.MaxPool2d(kernel_size=2, stride=2)\n",
    "        self.relu = nn.ReLU()\n",
    "        self.fc1 = nn.Linear(16*5*5, 120)\n",
    "        self.fc2 = nn.Linear(120, 84)\n",
    "        self.fc3 = nn.Linear(84, 10)\n",
    "\n",
    "    def forward(self, x):\n",
    "        x = self.relu(self.conv1(x))\n",
    "        x = self.pool(x)\n",
    "        x = self.relu(self.conv2(x))\n",
    "        x = self.pool(x)\n",
    "        x = torch.flatten(x, 1)\n",
    "        x = self.relu(self.fc1(x))\n",
    "        x = self.relu(self.fc2(x))\n",
    "        x = self.fc3(x)\n",
    "        return x"
   ]
  },
  {
   "cell_type": "code",
   "execution_count": 5,
   "id": "a1a3635b-fe88-4e8e-9fc8-952366e63b60",
   "metadata": {},
   "outputs": [],
   "source": [
    "class LeNetWithPositionEncoding(nn.Module):\n",
    "    def __init__(self, use_position_encoding=True):\n",
    "        super(LeNetWithPositionEncoding, self).__init__()\n",
    "        self.use_position_encoding = use_position_encoding\n",
    "\n",
    "        self.conv1 = nn.Conv2d(3, 6, kernel_size=5)\n",
    "        self.conv2 = nn.Conv2d(6, 16, kernel_size=5)\n",
    "        self.pool = nn.MaxPool2d(kernel_size=2, stride=2)\n",
    "        self.fc1 = nn.Linear(16*5*5 + 32*32*1, 120)\n",
    "        self.fc2 = nn.Linear(120, 84)\n",
    "        self.fc3 = nn.Linear(84, 10)\n",
    "\n",
    "        if self.use_position_encoding:\n",
    "            self.position_fc1 = nn.Linear(3, 256)\n",
    "            self.position_fc2 = nn.Linear(256, 64)\n",
    "            self.position_fc3 = nn.Linear(64, 1)\n",
    "\n",
    "    def forward(self, x):\n",
    "        batch_size = x.size(0)\n",
    "        x = self.pool(F.relu(self.conv1(x)))\n",
    "        x = self.pool(F.relu(self.conv2(x)))\n",
    "        x = x.view(batch_size, -1)\n",
    "        if self.use_position_encoding:\n",
    "            position_encoding_matrix_batch = position_encoding_matrix.unsqueeze(0).repeat(batch_size, 1, 1) # (batch_size, 32*32, 3)\n",
    "            position_encoding_matrix_batch = position_encoding_matrix_batch.to(device)\n",
    "            position_features = F.relu(self.position_fc1(position_encoding_matrix_batch)) # 得到(batch_size, 32*32, 256)的矩阵\n",
    "            position_features = F.relu(self.position_fc2(position_features)) # 得到(batch_size, 32*32, 64)的矩阵\n",
    "            position_features = self.position_fc3(position_features) # 得到(batch_size, 32*32, 1)的矩阵\n",
    "            position_features = position_features.view(batch_size, -1) # 得到(batch_size, 32*32*1)的矩阵\n",
    "            x = torch.cat((x, position_features), dim=1) # 得到(batch_size, 16*5*5 + 32*32*1)\n",
    "        \n",
    "        x = F.relu(self.fc1(x))\n",
    "        x = F.relu(self.fc2(x))\n",
    "        x = self.fc3(x)\n",
    "        \n",
    "        return x"
   ]
  },
  {
   "cell_type": "code",
   "execution_count": 6,
   "id": "134f10fc-be8e-4f50-aee0-a8bb004e484b",
   "metadata": {},
   "outputs": [
    {
     "name": "stdout",
     "output_type": "stream",
     "text": [
      "Using device: cuda\n"
     ]
    }
   ],
   "source": [
    "# Set device\n",
    "device = torch.device('cuda' if torch.cuda.is_available() else 'cpu')\n",
    "print(f\"Using device: {device}\")"
   ]
  },
  {
   "cell_type": "code",
   "execution_count": 7,
   "id": "d75752d7-d5e8-4704-b8aa-aa4541ddb9c2",
   "metadata": {},
   "outputs": [],
   "source": [
    "# 初始化模型、损失函数和优化器\n",
    "model_wPE = LeNetWithPositionEncoding()\n",
    "model_woPE = LeNet()\n",
    "criterion = nn.CrossEntropyLoss()\n",
    "optimizer_wPE = optim.Adam(model_wPE.parameters(), lr=0.0003)\n",
    "optimizer_woPE = optim.Adam(model_woPE.parameters(), lr=0.001)"
   ]
  },
  {
   "cell_type": "code",
   "execution_count": 8,
   "id": "1127b656-1cba-4aca-945b-34ef2c2d9d28",
   "metadata": {},
   "outputs": [
    {
     "data": {
      "text/plain": [
       "LeNet(\n",
       "  (conv1): Conv2d(3, 6, kernel_size=(5, 5), stride=(1, 1))\n",
       "  (conv2): Conv2d(6, 16, kernel_size=(5, 5), stride=(1, 1))\n",
       "  (pool): MaxPool2d(kernel_size=2, stride=2, padding=0, dilation=1, ceil_mode=False)\n",
       "  (relu): ReLU()\n",
       "  (fc1): Linear(in_features=400, out_features=120, bias=True)\n",
       "  (fc2): Linear(in_features=120, out_features=84, bias=True)\n",
       "  (fc3): Linear(in_features=84, out_features=10, bias=True)\n",
       ")"
      ]
     },
     "execution_count": 8,
     "metadata": {},
     "output_type": "execute_result"
    }
   ],
   "source": [
    "model_wPE.to(device)\n",
    "model_woPE.to(device)"
   ]
  },
  {
   "cell_type": "code",
   "execution_count": 9,
   "id": "a1748c9a-d2ad-4fb8-8601-220f00234411",
   "metadata": {},
   "outputs": [],
   "source": [
    "# 训练和测试模型\n",
    "def train(model, device, train_loader, optimizer, criterion, epoch, visualizer):\n",
    "    model.train()\n",
    "    train_loss = 0\n",
    "    correct = 0\n",
    "    for batch_idx, (data, target) in enumerate(train_loader):\n",
    "        data, target = data.to(device), target.to(device)\n",
    "        optimizer.zero_grad()\n",
    "        output = model(data)\n",
    "        loss = criterion(output, target)\n",
    "        loss.backward()\n",
    "        optimizer.step()\n",
    "        \n",
    "        train_loss += loss.item()\n",
    "        pred = output.argmax(dim=1, keepdim=True)\n",
    "        correct += pred.eq(target.view_as(pred)).sum().item()\n",
    "        \n",
    "    avg_train_loss = train_loss / len(train_loader)\n",
    "    train_accuracy = correct / len(train_loader.dataset)\n",
    "    \n",
    "    return epoch, avg_train_loss, train_accuracy\n",
    "\n",
    "def test(model, device, test_loader, criterion, epoch, visualizer):\n",
    "    model.eval()\n",
    "    test_loss = 0\n",
    "    correct = 0\n",
    "    with torch.no_grad():\n",
    "        for data, target in test_loader:\n",
    "            data, target = data.to(device), target.to(device)\n",
    "            output = model(data)\n",
    "            test_loss += criterion(output, target).item()\n",
    "            pred = output.argmax(dim=1, keepdim=True)\n",
    "            correct += pred.eq(target.view_as(pred)).sum().item()\n",
    "    \n",
    "    test_loss /= len(test_loader.dataset)\n",
    "    test_accuracy = correct / len(test_loader.dataset)\n",
    "\n",
    "    return epoch, test_accuracy"
   ]
  },
  {
   "cell_type": "code",
   "execution_count": 10,
   "id": "7ee4daaf-7c7f-4b0a-8c4b-9a286784ce3f",
   "metadata": {},
   "outputs": [
    {
     "data": {
      "image/png": "[encoded data removed]",
      "text/plain": [
       "<Figure size 700x500 with 1 Axes>"
      ]
     },
     "metadata": {},
     "output_type": "display_data"
    }
   ],
   "source": [
    "# 初始化 TrainingVisualizer\n",
    "visualizer = TrainingVisualizer(xlabel='Epoch', ylabel='Value', title='Training and Test Metrics',\n",
    "                                legend=['train acc with PE', 'train acc without PE', \"test acc with PE\", \"test acc without PE\"])\n",
    "\n",
    "# 训练和测试模型\n",
    "for epoch in range(1, 101):\n",
    "    epoch, avg_train_loss_wPE, train_accuracy_wPE = train(model_wPE, device, train_loader, optimizer_wPE, criterion, epoch, visualizer)\n",
    "    epoch, test_accuracy_wPE = test(model_wPE, device, test_loader, criterion, epoch, visualizer)\n",
    "    \n",
    "    epoch, avg_train_loss_woPE, train_accuracy_woPE = train(model_woPE, device, train_loader, optimizer_woPE, criterion, epoch, visualizer)\n",
    "    epoch, test_accuracy_woPE = test(model_woPE, device, test_loader, criterion, epoch, visualizer)\n",
    "    \n",
    "    visualizer.add(epoch, (train_accuracy_wPE, train_accuracy_woPE, test_accuracy_wPE, test_accuracy_woPE))"
   ]
  },
  {
   "cell_type": "code",
   "execution_count": 11,
   "id": "ae6e26c7-7a60-4ee0-83f6-d811f8ca7798",
   "metadata": {},
   "outputs": [
    {
     "data": {
      "text/plain": [
       "(0.6304, 0.6083)"
      ]
     },
     "execution_count": 11,
     "metadata": {},
     "output_type": "execute_result"
    }
   ],
   "source": [
    "test_accuracy_wPE, test_accuracy_woPE"
   ]
  },
  {
   "cell_type": "code",
   "execution_count": null,
   "id": "542913b2-30e3-4460-bab8-409cd568363b",
   "metadata": {},
   "outputs": [],
   "source": []
  },
  {
   "cell_type": "code",
   "execution_count": null,
   "id": "65642fd4-3c8d-487a-a232-3b2b7694428d",
   "metadata": {},
   "outputs": [],
   "source": []
  },
  {
   "cell_type": "code",
   "execution_count": null,
   "id": "b7322c1f-70d9-4ddd-8a3a-f25ae7e80ca3",
   "metadata": {},
   "outputs": [],
   "source": []
  },
  {
   "cell_type": "code",
   "execution_count": null,
   "id": "05b94c73-9001-444b-86d8-0038bcae97dc",
   "metadata": {},
   "outputs": [],
   "source": [
    "# 保存模型的状态字典\n",
    "model_path = 'checkpoints/LeNetwPE_cifar10.pth'\n",
    "torch.save(model_wPE.state_dict(), model_path)\n",
    "print(f\"Model saved to {model_path}\")\n",
    "\n",
    "model_path = 'checkpoints/LeNetwoPE_cifar10.pth'\n",
    "torch.save(model_woPE.state_dict(), model_path)\n",
    "print(f\"Model saved to {model_path}\")"
   ]
  },
  {
   "cell_type": "code",
   "execution_count": null,
   "id": "aca211e2-854d-4f39-8c67-316b9482b527",
   "metadata": {},
   "outputs": [],
   "source": [
    "# 创建模型实例\n",
    "model = models.resnet18(pretrained=False, num_classes=10)\n",
    "model = model.to(device)\n",
    "\n",
    "# 加载模型的状态字典\n",
    "model_path = 'resnet18_cifar10.pth'\n",
    "model.load_state_dict(torch.load(model_path))\n",
    "print(f\"Model loaded from {model_path}\")\n",
    "\n",
    "# 如果需要继续训练，可以设置模型为训练模式\n",
    "model.train()"
   ]
  },
  {
   "cell_type": "code",
   "execution_count": null,
   "id": "395864b9-24eb-49d1-a794-e367d9603be3",
   "metadata": {},
   "outputs": [],
   "source": []
  },
  {
   "cell_type": "code",
   "execution_count": null,
   "id": "0d938d47-a64a-4520-9d52-9d71c7d409b8",
   "metadata": {},
   "outputs": [],
   "source": []
  },
  {
   "cell_type": "code",
   "execution_count": null,
   "id": "e9df9422-d9ae-4ccf-a11b-34e8b5eb38d0",
   "metadata": {},
   "outputs": [],
   "source": []
  },
  {
   "cell_type": "code",
   "execution_count": null,
   "id": "59855d3e-d7a8-475a-bfac-07864877e2c6",
   "metadata": {},
   "outputs": [],
   "source": []
  },
  {
   "cell_type": "code",
   "execution_count": null,
   "id": "60a02a31-3794-40c4-b3a8-f65327e1061c",
   "metadata": {},
   "outputs": [],
   "source": []
  },
  {
   "cell_type": "code",
   "execution_count": null,
   "id": "41dc0fb4-c85d-4bc6-af08-6bb555a756c9",
   "metadata": {},
   "outputs": [],
   "source": []
  }
 ],
 "metadata": {
  "kernelspec": {
   "display_name": "Python 3 (ipykernel)",
   "language": "python",
   "name": "python3"
  },
  "language_info": {
   "codemirror_mode": {
    "name": "ipython",
    "version": 3
   },
   "file_extension": ".py",
   "mimetype": "text/x-python",
   "name": "python",
   "nbconvert_exporter": "python",
   "pygments_lexer": "ipython3",
   "version": "3.9.19"
  }
 },
 "nbformat": 4,
 "nbformat_minor": 5
}
