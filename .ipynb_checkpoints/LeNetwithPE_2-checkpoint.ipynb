{
 "cells": [
  {
   "cell_type": "code",
   "execution_count": 1,
   "id": "9f39c76c-34bb-4298-8acc-abfca1aa7608",
   "metadata": {},
   "outputs": [],
   "source": [
    "import torch\n",
    "import torch.nn as nn\n",
    "import torch.optim as optim\n",
    "import torchvision\n",
    "import torchvision.transforms as transforms\n",
    "import numpy as np\n",
    "from torchvision.datasets import FashionMNIST\n",
    "from torch.utils.data import DataLoader, random_split\n",
    "from torchvision import datasets, transforms\n",
    "from visualization import TrainingVisualizer\n",
    "import torch.nn.functional as F"
   ]
  },
  {
   "cell_type": "code",
   "execution_count": 2,
   "id": "b76d686d-71b0-4e8f-9ac1-13e73b3e3217",
   "metadata": {},
   "outputs": [],
   "source": [
    "import torch\n",
    "import matplotlib.pyplot as plt\n",
    "\n",
    "# 定义可视化函数\n",
    "def visualize_tensor(tensor, indices, title=\"\"):\n",
    "    fig, axes = plt.subplots(1, len(indices), figsize=(9, 3))\n",
    "    if len(indices) == 1:\n",
    "        axes = [axes]  # 将单个AxesSubplot对象包装成一个列表\n",
    "    for ax, idx in zip(axes, indices):\n",
    "        image = tensor[idx, 0].detach().cpu().numpy()\n",
    "        ax.imshow(image, cmap='gray')\n",
    "        ax.set_title(f\"Image {idx+1}\")\n",
    "        ax.axis('off')\n",
    "    fig.suptitle(title)\n",
    "    plt.show()"
   ]
  },
  {
   "cell_type": "code",
   "execution_count": 3,
   "id": "6adc3767-ddad-41c6-be7b-1a08d1a217f5",
   "metadata": {},
   "outputs": [],
   "source": [
    "# 数据预处理和加载\n",
    "transform = transforms.Compose([\n",
    "    transforms.ToTensor(),\n",
    "    transforms.Normalize((0.5,), (0.5,))\n",
    "])\n",
    "\n",
    "train_dataset = datasets.FashionMNIST(root='./data', train=True, download=True, transform=transform)\n",
    "test_dataset = datasets.FashionMNIST(root='./data', train=False, download=True, transform=transform)\n",
    "\n",
    "batch_size = 256\n",
    "train_loader = DataLoader(train_dataset, batch_size=batch_size, shuffle=True)\n",
    "test_loader = DataLoader(test_dataset, batch_size=batch_size, shuffle=False)"
   ]
  },
  {
   "cell_type": "code",
   "execution_count": 4,
   "id": "f6db6971-defc-4867-ad41-f642df1d482e",
   "metadata": {},
   "outputs": [],
   "source": [
    "def spherical_to_cartesian(radius, theta, phi):\n",
    "    x = radius * np.sin(phi) * np.cos(theta)\n",
    "    y = radius * np.sin(phi) * np.sin(theta)\n",
    "    z = radius * np.cos(phi)\n",
    "    return x, y, z\n",
    "\n",
    "def get_position_encoding_matrix(rows, cols):\n",
    "    position_encoding_matrix = np.zeros((rows, cols, 3))\n",
    "    radius = 1\n",
    "\n",
    "    for i in range(rows):\n",
    "        for j in range(cols):\n",
    "            theta = (j / (cols - 1)) * (np.pi / 2)\n",
    "            phi = (i / (rows - 1)) * (np.pi / 2)\n",
    "            x, y, z = spherical_to_cartesian(radius, theta, phi)\n",
    "            position_encoding_matrix[i, j] = [x, y, z]\n",
    "\n",
    "    return position_encoding_matrix\n",
    "\n",
    "position_encoding_matrix = get_position_encoding_matrix(28, 28)\n",
    "position_encoding_matrix = torch.tensor(position_encoding_matrix, dtype=torch.float32).view(28 * 28, 3)"
   ]
  },
  {
   "cell_type": "code",
   "execution_count": 5,
   "id": "28448193-2ec2-4b2d-bcdd-599fd7ca09b8",
   "metadata": {},
   "outputs": [
    {
     "data": {
      "text/plain": [
       "(torch.Size([1, 1, 784, 3]), torch.Size([256, 1, 784, 3]))"
      ]
     },
     "execution_count": 5,
     "metadata": {},
     "output_type": "execute_result"
    }
   ],
   "source": [
    "position_encoding_matrix.unsqueeze(0).unsqueeze(0).shape, position_encoding_matrix.unsqueeze(0).unsqueeze(0).repeat(batch_size, 1, 1, 1).shape"
   ]
  },
  {
   "cell_type": "code",
   "execution_count": 6,
   "id": "16f416ad-4ead-4974-85d1-35012748a843",
   "metadata": {},
   "outputs": [],
   "source": [
    "class LeNet(nn.Module):\n",
    "    def __init__(self):\n",
    "        super(LeNet, self).__init__()\n",
    "        self.conv1 = nn.Conv2d(1, 6, kernel_size=5)\n",
    "        self.conv2 = nn.Conv2d(6, 16, kernel_size=5)\n",
    "        self.pool = nn.MaxPool2d(kernel_size=2, stride=2)\n",
    "        self.relu = nn.ReLU()\n",
    "        self.fc1 = nn.Linear(16 * 4 * 4, 120)\n",
    "        self.fc2 = nn.Linear(120, 84)\n",
    "        self.fc3 = nn.Linear(84, 10)\n",
    "\n",
    "    def forward(self, x):\n",
    "        x = self.relu(self.conv1(x))\n",
    "        x = self.pool(x)\n",
    "        x = self.relu(self.conv2(x))\n",
    "        x = self.pool(x)\n",
    "        x = torch.flatten(x, 1)\n",
    "        x = self.relu(self.fc1(x))\n",
    "        x = self.relu(self.fc2(x))\n",
    "        x = self.fc3(x)\n",
    "        return x"
   ]
  },
  {
   "cell_type": "code",
   "execution_count": 13,
   "id": "1df65dd6-25b2-4aa1-8155-c34ece0137bf",
   "metadata": {},
   "outputs": [],
   "source": [
    "class LeNetWithPositionEncoding(nn.Module):\n",
    "    def __init__(self, use_position_encoding=True):\n",
    "        super(LeNetWithPositionEncoding, self).__init__()\n",
    "        self.use_position_encoding = use_position_encoding\n",
    "\n",
    "        self.conv1 = nn.Conv2d(1, 6, kernel_size=5)\n",
    "        self.pool = nn.MaxPool2d(kernel_size=2, stride=2)\n",
    "        self.conv2 = nn.Conv2d(6, 16, kernel_size=5)\n",
    "\n",
    "        self.fc1 = nn.Linear(16*4*4, 120)\n",
    "        self.fc2 = nn.Linear(120, 84)\n",
    "        self.fc3 = nn.Linear(84, 10)\n",
    "\n",
    "        if self.use_position_encoding:\n",
    "            self.position_fc1 = nn.Linear(3, 128)\n",
    "            self.position_fc2 = nn.Linear(128, 1)\n",
    "\n",
    "    def forward(self, x):\n",
    "        batch_size = x.size(0)\n",
    "        \n",
    "        # 提取并可视化第一张图片\n",
    "        # visualize_tensor(x, [0, 1, 2], title=\"Original Image\")\n",
    "        \n",
    "        # 先处理位置信息\n",
    "        if self.use_position_encoding:\n",
    "            position_encoding_matrix_batch = position_encoding_matrix.unsqueeze(0).unsqueeze(0).repeat(batch_size, 1, 1, 1) # (batch_size, 1, 28*28, 3)\n",
    "            position_encoding_matrix_batch = position_encoding_matrix_batch.to(device)\n",
    "            position_features = F.relu(self.position_fc1(position_encoding_matrix_batch)) # 得到(batch_size, 1, 28*28, 128)的矩阵\n",
    "            position_features = self.position_fc2(position_features) # 得到(batch_size, 1, 28*28, 1)的矩阵\n",
    "            position_features = position_features.view(batch_size, 1, 28, 28) # 得到(batch_size, 1, 28, 28)的矩阵\n",
    "            x = torch.mul(x, position_features)\n",
    "\n",
    "        # 可视化逐元素相乘后的结果\n",
    "        # visualize_tensor(x, [0, 1, 2], title=\"Element-wise Multiplication Result\")\n",
    "\n",
    "        x = self.pool(F.relu(self.conv1(x)))\n",
    "        x = self.pool(F.relu(self.conv2(x)))\n",
    "        x = x.view(batch_size, -1)\n",
    "        # print(x.shape)\n",
    "        x = F.relu(self.fc1(x))\n",
    "        x = F.relu(self.fc2(x))\n",
    "        x = self.fc3(x)\n",
    "        \n",
    "        return x"
   ]
  },
  {
   "cell_type": "code",
   "execution_count": 14,
   "id": "0627c741-b970-46cb-849a-d3e91592a1d6",
   "metadata": {},
   "outputs": [
    {
     "name": "stdout",
     "output_type": "stream",
     "text": [
      "Using device: cuda\n"
     ]
    }
   ],
   "source": [
    "# Set device\n",
    "device = torch.device('cuda' if torch.cuda.is_available() else 'cpu')\n",
    "print(f\"Using device: {device}\")"
   ]
  },
  {
   "cell_type": "code",
   "execution_count": 15,
   "id": "a591a820-2cb8-4007-9e5e-ada2bee8fec8",
   "metadata": {},
   "outputs": [],
   "source": [
    "# 初始化模型、损失函数和优化器\n",
    "model_wPE = LeNetWithPositionEncoding()\n",
    "model_woPE = LeNet()\n",
    "criterion = nn.CrossEntropyLoss()\n",
    "optimizer_wPE = optim.Adam(model_wPE.parameters(), lr=0.001)\n",
    "optimizer_woPE = optim.Adam(model_woPE.parameters(), lr=0.001)"
   ]
  },
  {
   "cell_type": "code",
   "execution_count": 16,
   "id": "664f74ce-b681-4d1c-9685-950d87cf3f3f",
   "metadata": {},
   "outputs": [
    {
     "data": {
      "text/plain": [
       "LeNet(\n",
       "  (conv1): Conv2d(1, 6, kernel_size=(5, 5), stride=(1, 1))\n",
       "  (conv2): Conv2d(6, 16, kernel_size=(5, 5), stride=(1, 1))\n",
       "  (pool): MaxPool2d(kernel_size=2, stride=2, padding=0, dilation=1, ceil_mode=False)\n",
       "  (relu): ReLU()\n",
       "  (fc1): Linear(in_features=256, out_features=120, bias=True)\n",
       "  (fc2): Linear(in_features=120, out_features=84, bias=True)\n",
       "  (fc3): Linear(in_features=84, out_features=10, bias=True)\n",
       ")"
      ]
     },
     "execution_count": 16,
     "metadata": {},
     "output_type": "execute_result"
    }
   ],
   "source": [
    "model_wPE.to(device)\n",
    "model_woPE.to(device)"
   ]
  },
  {
   "cell_type": "code",
   "execution_count": 17,
   "id": "67c7c730-f388-4947-ab31-21bcb29aa65d",
   "metadata": {},
   "outputs": [],
   "source": [
    "# 训练和测试模型\n",
    "def train(model, device, train_loader, optimizer, criterion, epoch, visualizer):\n",
    "    model.train()\n",
    "    train_loss = 0\n",
    "    correct = 0\n",
    "    for batch_idx, (data, target) in enumerate(train_loader):\n",
    "        data, target = data.to(device), target.to(device)\n",
    "        optimizer.zero_grad()\n",
    "        output = model(data)\n",
    "        loss = criterion(output, target)\n",
    "        loss.backward()\n",
    "        optimizer.step()\n",
    "        \n",
    "        train_loss += loss.item()\n",
    "        pred = output.argmax(dim=1, keepdim=True)\n",
    "        correct += pred.eq(target.view_as(pred)).sum().item()\n",
    "        \n",
    "    avg_train_loss = train_loss / len(train_loader)\n",
    "    train_accuracy = correct / len(train_loader.dataset)\n",
    "    \n",
    "    # visualizer.add(epoch, (avg_train_loss, train_accuracy))\n",
    "    return epoch, avg_train_loss, train_accuracy\n",
    "\n",
    "def test(model, device, test_loader, criterion, epoch, visualizer):\n",
    "    model.eval()\n",
    "    test_loss = 0\n",
    "    correct = 0\n",
    "    with torch.no_grad():\n",
    "        for data, target in test_loader:\n",
    "            data, target = data.to(device), target.to(device)\n",
    "            output = model(data)\n",
    "            test_loss += criterion(output, target).item()\n",
    "            pred = output.argmax(dim=1, keepdim=True)\n",
    "            correct += pred.eq(target.view_as(pred)).sum().item()\n",
    "    \n",
    "    test_loss /= len(test_loader.dataset)\n",
    "    test_accuracy = correct / len(test_loader.dataset)\n",
    "\n",
    "    return epoch, test_accuracy"
   ]
  },
  {
   "cell_type": "code",
   "execution_count": null,
   "id": "a3fd65dd-e83b-45c2-986d-8ed395caa4fb",
   "metadata": {},
   "outputs": [
    {
     "data": {
      "image/png": "[encoded data removed]",
      "text/plain": [
       "<Figure size 700x500 with 1 Axes>"
      ]
     },
     "metadata": {},
     "output_type": "display_data"
    }
   ],
   "source": [
    "# 初始化 TrainingVisualizer\n",
    "visualizer = TrainingVisualizer(xlabel='Epoch', ylabel='Value', title='Training and Test Metrics',\n",
    "                                legend=['train acc with PE', 'train acc without PE', \"test acc with PE\", \"test acc without PE\"])\n",
    "\n",
    "# 训练和测试模型\n",
    "for epoch in range(1, 101):\n",
    "    epoch, avg_train_loss_wPE, train_accuracy_wPE = train(model_wPE, device, train_loader, optimizer_wPE, criterion, epoch, visualizer)\n",
    "    epoch, test_accuracy_wPE = test(model_wPE, device, test_loader, criterion, epoch, visualizer)\n",
    "    \n",
    "    epoch, avg_train_loss_woPE, train_accuracy_woPE = train(model_woPE, device, train_loader, optimizer_woPE, criterion, epoch, visualizer)\n",
    "    epoch, test_accuracy_woPE = test(model_woPE, device, test_loader, criterion, epoch, visualizer)\n",
    "    \n",
    "    visualizer.add(epoch, (train_accuracy_wPE, train_accuracy_woPE, test_accuracy_wPE, test_accuracy_woPE))"
   ]
  },
  {
   "cell_type": "code",
   "execution_count": null,
   "id": "db38abde-e92f-4100-8f1e-e740e57c4cf0",
   "metadata": {},
   "outputs": [],
   "source": []
  },
  {
   "cell_type": "code",
   "execution_count": null,
   "id": "9fcd6e0b-c854-4397-a10f-326351bd2a99",
   "metadata": {},
   "outputs": [],
   "source": []
  },
  {
   "cell_type": "code",
   "execution_count": null,
   "id": "a62a3a8e-815f-48af-a970-2e4f402a3b65",
   "metadata": {},
   "outputs": [],
   "source": []
  },
  {
   "cell_type": "code",
   "execution_count": null,
   "id": "ce3507dd-e37a-43a8-82b1-2dd516dbbd42",
   "metadata": {},
   "outputs": [],
   "source": []
  },
  {
   "cell_type": "code",
   "execution_count": null,
   "id": "b0830d44-8639-4791-823b-76872c6ed0a9",
   "metadata": {},
   "outputs": [],
   "source": []
  },
  {
   "cell_type": "code",
   "execution_count": null,
   "id": "ad496a3f-6b4c-4e0a-8c26-3bfcab7c0a3c",
   "metadata": {},
   "outputs": [],
   "source": []
  },
  {
   "cell_type": "code",
   "execution_count": null,
   "id": "b69c01b9-452e-46df-8a63-b90f1e943cd4",
   "metadata": {},
   "outputs": [],
   "source": []
  },
  {
   "cell_type": "code",
   "execution_count": null,
   "id": "a73c412d-f4cc-4954-bb55-8c3f7329e466",
   "metadata": {},
   "outputs": [],
   "source": []
  }
 ],
 "metadata": {
  "kernelspec": {
   "display_name": "Python 3 (ipykernel)",
   "language": "python",
   "name": "python3"
  },
  "language_info": {
   "codemirror_mode": {
    "name": "ipython",
    "version": 3
   },
   "file_extension": ".py",
   "mimetype": "text/x-python",
   "name": "python",
   "nbconvert_exporter": "python",
   "pygments_lexer": "ipython3",
   "version": "3.9.19"
  }
 },
 "nbformat": 4,
 "nbformat_minor": 5
}
